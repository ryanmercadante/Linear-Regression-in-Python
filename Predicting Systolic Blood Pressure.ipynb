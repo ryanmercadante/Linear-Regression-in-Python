{
 "cells": [
  {
   "cell_type": "code",
   "execution_count": 13,
   "metadata": {},
   "outputs": [],
   "source": [
    "import numpy as np\n",
    "import matplotlib.pyplot as plt\n",
    "import pandas as pd\n",
    "from mpl_toolkits.mplot3d import Axes3D"
   ]
  },
  {
   "cell_type": "code",
   "execution_count": 2,
   "metadata": {},
   "outputs": [],
   "source": [
    "# The data (X1, X2, X3) are for each patient\n",
    "# X1 = systolic blood pressure\n",
    "# X2 = age in years\n",
    "# X3 = weight in pounds"
   ]
  },
  {
   "cell_type": "code",
   "execution_count": 5,
   "metadata": {},
   "outputs": [
    {
     "name": "stdout",
     "output_type": "stream",
     "text": [
      "[[132  52 173]\n",
      " [143  59 184]\n",
      " [153  67 194]\n",
      " [162  73 211]\n",
      " [154  64 196]\n",
      " [168  74 220]\n",
      " [137  54 188]\n",
      " [149  61 188]\n",
      " [159  65 207]\n",
      " [128  46 167]\n",
      " [166  72 217]]\n"
     ]
    }
   ],
   "source": [
    "df = pd.read_excel('systolic.xlsx')\n",
    "X = df.as_matrix()\n",
    "print(X)"
   ]
  },
  {
   "cell_type": "code",
   "execution_count": 7,
   "metadata": {},
   "outputs": [
    {
     "data": {
      "image/png": "[encoded data removed]",
      "text/plain": [
       "<matplotlib.figure.Figure at 0x21d13a312b0>"
      ]
     },
     "metadata": {},
     "output_type": "display_data"
    }
   ],
   "source": [
    "plt.scatter(X[:,1], X[:,0])\n",
    "plt.xlabel('Age in years')\n",
    "plt.ylabel('Systolic Blood Pressure')\n",
    "plt.show()"
   ]
  },
  {
   "cell_type": "code",
   "execution_count": 8,
   "metadata": {},
   "outputs": [
    {
     "data": {
      "image/png": "[encoded data removed]",
      "text/plain": [
       "<matplotlib.figure.Figure at 0x21d13a87080>"
      ]
     },
     "metadata": {},
     "output_type": "display_data"
    }
   ],
   "source": [
    "plt.scatter(X[:,2], X[:,0])\n",
    "plt.xlabel('Weight in pounds')\n",
    "plt.ylabel('Systolic Blood Pressure')\n",
    "plt.show()"
   ]
  },
  {
   "cell_type": "code",
   "execution_count": 10,
   "metadata": {},
   "outputs": [],
   "source": [
    "df['ones'] = 1 # acts as bias\n",
    "Y = df['X1']\n",
    "# We want to do 3 linear regressions, one with just age as input, one with just weight as input, and one with both\n",
    "X = df[['X2', 'X3', 'ones']]\n",
    "X2only = df[['X2', 'ones']]\n",
    "X3only = df[['X3', 'ones']]"
   ]
  },
  {
   "cell_type": "code",
   "execution_count": 11,
   "metadata": {},
   "outputs": [],
   "source": [
    "def get_r2(X, Y):\n",
    "    w = np.linalg.solve( X.T.dot(X), X.T.dot(Y) )\n",
    "    Yhat = X.dot(w)\n",
    "    \n",
    "    d1 = Y - Yhat\n",
    "    d2 = Y - Y.mean()\n",
    "    r2 = 1 - d1.dot(d1) / d2.dot(d2)\n",
    "    return r2"
   ]
  },
  {
   "cell_type": "code",
   "execution_count": 12,
   "metadata": {},
   "outputs": [
    {
     "name": "stdout",
     "output_type": "stream",
     "text": [
      "r-squared for age only: 0.9578407208147355\n",
      "r-squared for weight only: 0.9419952085293065\n",
      "r-squared for both age and weight: 0.9768471041502091\n"
     ]
    }
   ],
   "source": [
    "print('r-squared for age only:', get_r2(X2only, Y))\n",
    "print('r-squared for weight only:', get_r2(X3only, Y))\n",
    "print('r-squared for both age and weight:', get_r2(X, Y))"
   ]
  },
  {
   "cell_type": "code",
   "execution_count": null,
   "metadata": {},
   "outputs": [],
   "source": []
  }
 ],
 "metadata": {
  "kernelspec": {
   "display_name": "Python 3",
   "language": "python",
   "name": "python3"
  },
  "language_info": {
   "codemirror_mode": {
    "name": "ipython",
    "version": 3
   },
   "file_extension": ".py",
   "mimetype": "text/x-python",
   "name": "python",
   "nbconvert_exporter": "python",
   "pygments_lexer": "ipython3",
   "version": "3.6.4"
  }
 },
 "nbformat": 4,
 "nbformat_minor": 2
}
